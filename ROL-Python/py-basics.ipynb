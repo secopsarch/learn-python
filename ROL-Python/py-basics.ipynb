{
 "cells": [
  {
   "cell_type": "code",
   "execution_count": null,
   "id": "525c3dce",
   "metadata": {},
   "outputs": [
    {
     "name": "stdout",
     "output_type": "stream",
     "text": [
      "hello\n"
     ]
    },
    {
     "data": {
      "text/plain": [
       "'0xa'"
      ]
     },
     "execution_count": 6,
     "metadata": {},
     "output_type": "execute_result"
    }
   ],
   "source": [
    "print('hello')\n",
    "pow(3,3)\n",
    "x = 10\n",
    "hex(x)\n"
   ]
  },
  {
   "cell_type": "code",
   "execution_count": null,
   "id": "f57eb4b4",
   "metadata": {},
   "outputs": [
    {
     "name": "stdout",
     "output_type": "stream",
     "text": [
      "this is my notebook \"\\\" dont use it\n"
     ]
    }
   ],
   "source": [
    "# a = [1,2]\n",
    "# b = [3,4]\n",
    "# a+b\n",
    "\n",
    "# x = \"hello, this is just for learning\"\n",
    "# y = \"learning python\"\n",
    "# x+y\n",
    "\n",
    "print('this is my notebook \"\\\\\" dont use it')\n"
   ]
  },
  {
   "cell_type": "code",
   "execution_count": 25,
   "id": "851e7264",
   "metadata": {},
   "outputs": [
    {
     "name": "stdout",
     "output_type": "stream",
     "text": [
      "Royal Straight Flush 🂡 🂮 🂭 🂫 🂪\n",
      "\n"
     ]
    }
   ],
   "source": [
    "spades = \"\"\"Royal Straight Flush \\\n",
    "\\U0001F0A1 \\U0001F0AE \\U0001F0AD \\U0001F0AB \\U0001F0AA\n",
    "\"\"\"\n",
    "print(spades)"
   ]
  },
  {
   "cell_type": "code",
   "execution_count": null,
   "id": "96a23d50",
   "metadata": {},
   "outputs": [
    {
     "data": {
      "text/plain": [
       "False"
      ]
     },
     "execution_count": 8,
     "metadata": {},
     "output_type": "execute_result"
    }
   ],
   "source": [
    "# x = \"my name is Arun\"\n",
    "# y = \"im 33 years old\"\n",
    "# bio = x + \" \" + y\n",
    "# print(bio)\n",
    "\n",
    "# \"hello \" * 5\n",
    "\n",
    "a = \"Arun\"\n",
    "'*' * (len(a) + 4);\n",
    "\"* \" + a + \" *\";\n",
    "'*' * (len(a) + 4)\n",
    "\n",
    "\n",
    "\"dog\" in \"this is my new cat\""
   ]
  },
  {
   "cell_type": "code",
   "execution_count": 60,
   "id": "094cd37a",
   "metadata": {},
   "outputs": [
    {
     "name": "stdout",
     "output_type": "stream",
     "text": [
      "learning string methods\n",
      "['learning', 'string', 'methods']\n",
      "e\n"
     ]
    }
   ],
   "source": [
    "x = \"learning string methods\"\n",
    "print(x)\n",
    "# y = input(\"what is your name?\")\n",
    "# print(y)\n",
    "type(x.split())\n",
    "\n",
    "print(x.split(' '))\n",
    "print(x.replace(\"string\",\"words\")[1])"
   ]
  },
  {
   "cell_type": "code",
   "execution_count": 37,
   "id": "bdd86263",
   "metadata": {},
   "outputs": [
    {
     "name": "stdout",
     "output_type": "stream",
     "text": [
      "True\n",
      "WWW.ARUNLEARNPYTHON.COM\n"
     ]
    },
    {
     "data": {
      "text/plain": [
       "True"
      ]
     },
     "execution_count": 37,
     "metadata": {},
     "output_type": "execute_result"
    }
   ],
   "source": [
    "from curses.ascii import isalpha\n",
    "\n",
    "\n",
    "url = \"www.arunlearnpython.com\"\n",
    "result = url.startswith(\"www\")\n",
    "print(result)\n",
    "new_url = url.upper()\n",
    "print(new_url)\n",
    "\n",
    "'aasdfddf534'.isalnum()\n"
   ]
  },
  {
   "cell_type": "code",
   "execution_count": 24,
   "id": "b8f3c161",
   "metadata": {},
   "outputs": [
    {
     "name": "stdout",
     "output_type": "stream",
     "text": [
      "Royal Straight Flush 🂡 🂮 🂭 🂫 🂪\n",
      "\n"
     ]
    }
   ],
   "source": [
    "spades = \"\"\"Royal Straight Flush \\\n",
    "\\U0001F0A1 \\U0001F0AE \\U0001F0AD \\U0001F0AB \\U0001F0AA\n",
    "\"\"\"\n",
    "print(spades)"
   ]
  },
  {
   "cell_type": "code",
   "execution_count": null,
   "id": "3f681cc5",
   "metadata": {},
   "outputs": [
    {
     "name": "stdout",
     "output_type": "stream",
     "text": [
      "g useful\n",
      " some random data \n",
      "that you cannot understand \n",
      "used as an exmaple for this demo\n",
      "ignore my comments above and create \n",
      "something useful \n"
     ]
    }
   ],
   "source": [
    "a = \"this is a string\"\n",
    "len(a)\n",
    "a[0:9:3]\n",
    "\n",
    "spam = \"\"\" some random data\n",
    "that you cannot understand\n",
    "used as an exmaple for this demo\n",
    "ignore my comments above and create\n",
    "something useful \"\"\"\n",
    "\n",
    "print(spam[-9:-1])\n",
    "print(spam[::1])"
   ]
  },
  {
   "cell_type": "code",
   "execution_count": null,
   "id": "2d57c6e3",
   "metadata": {},
   "outputs": [
    {
     "data": {
      "text/plain": [
       "'0xc'"
      ]
     },
     "execution_count": 34,
     "metadata": {},
     "output_type": "execute_result"
    }
   ],
   "source": [
    "name = \"Arun\"\n",
    "surname = \"Bharathwaj\"\n",
    "delivery_date = \"2.2.2026\"\n",
    "\n",
    "\n",
    "# separator = \"----------------------------\"\n",
    "# name = \"First: {} \\tLast Name: {} \\tMiddle Initial: {}\"\n",
    "# formatted = name.format(\"John\", \"Smith\", \"C.\")\n",
    "# print(formatted)\n",
    "# formatted = name.format(\"Melony\", \"Jones\", \"A.\")\n",
    "# print(formatted)\n",
    "# print(separator)\n",
    "\n",
    "f\"Dear {name} {surname}, your order will be delivered on {delivery_date}\"\n",
    "\n",
    "\"123\"\n",
    "int(\"123\")\n",
    "oct(12)\n",
    "hex(12)"
   ]
  },
  {
   "cell_type": "code",
   "execution_count": null,
   "id": "8eec31d4",
   "metadata": {},
   "outputs": [
    {
     "name": "stdout",
     "output_type": "stream",
     "text": [
      "Arun\n",
      "4\n"
     ]
    }
   ],
   "source": [
    "# EX-1\n",
    "a = input(\"Enter your name\")\n",
    "print(a)\n",
    "print(len(a))\n",
    "\n",
    "# EX-2\n",
    "#!/usr/local/bin env\n"
   ]
  }
 ],
 "metadata": {
  "kernelspec": {
   "display_name": ".venv",
   "language": "python",
   "name": "python3"
  },
  "language_info": {
   "codemirror_mode": {
    "name": "ipython",
    "version": 3
   },
   "file_extension": ".py",
   "mimetype": "text/x-python",
   "name": "python",
   "nbconvert_exporter": "python",
   "pygments_lexer": "ipython3",
   "version": "3.12.3"
  }
 },
 "nbformat": 4,
 "nbformat_minor": 5
}
